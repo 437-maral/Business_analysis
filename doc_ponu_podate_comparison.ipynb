{
 "cells": [
  {
   "cell_type": "code",
   "execution_count": 1,
   "metadata": {},
   "outputs": [],
   "source": [
    "import pandas as pd \n",
    "import numpy as np\n",
    "import re\n",
    "from comaparison import check_po_date,check_doctype,check_po_number"
   ]
  },
  {
   "cell_type": "code",
   "execution_count": 2,
   "metadata": {},
   "outputs": [],
   "source": [
    "IEPO_GROUND_data=pd.read_excel(\"IEPO_210_Documents.xlsx\",sheet_name=\"IEPO_Cleaned\")\n",
    "IEPO_extracted_data=pd.read_csv(\"KA_Dump.csv\")"
   ]
  },
  {
   "cell_type": "code",
   "execution_count": 3,
   "metadata": {},
   "outputs": [],
   "source": [
    "IEPO_GROUND_data =IEPO_GROUND_data.drop_duplicates()"
   ]
  },
  {
   "cell_type": "code",
   "execution_count": 4,
   "metadata": {},
   "outputs": [],
   "source": [
    "doc_ids=IEPO_GROUND_data[\"document_id\"].unique()\n",
    "\n",
    "IEPO_extracted_data = IEPO_extracted_data[\n",
    "    IEPO_extracted_data[\"document_id\"].astype(str).isin(doc_ids)\n",
    "]"
   ]
  },
  {
   "cell_type": "code",
   "execution_count": 5,
   "metadata": {},
   "outputs": [],
   "source": [
    "IEPO_extracted_data.loc[:, 'running_index'] =IEPO_extracted_data.groupby('document_id').cumcount() + 1\n",
    "IEPO_extracted_data = IEPO_extracted_data.reset_index(drop=True)\n",
    "\n",
    "#adjust the name of columns\n",
    "IEPO_GROUND_data = IEPO_GROUND_data.rename(columns={\"gt_po_no\": \"gt_po_number\"})\n",
    "IEPO_GROUND_data = IEPO_GROUND_data.rename(columns={\"gt_doctype\": \"gt_doc_type\"})"
   ]
  },
  {
   "cell_type": "code",
   "execution_count": 6,
   "metadata": {},
   "outputs": [],
   "source": [
    "# Corrected code\n",
    "IEPO_extracted_data = IEPO_extracted_data.drop_duplicates(subset=\"document_id\")\n",
    "IEPO_GROUND_data = IEPO_GROUND_data.drop_duplicates(subset=\"document_id\")\n"
   ]
  },
  {
   "cell_type": "code",
   "execution_count": 7,
   "metadata": {},
   "outputs": [],
   "source": [
    "special_character = r\"[:|*|-|BE|()|-|(*)]\"\n",
    "\n",
    "\n",
    "def remove_special_characters(text):\n",
    "    return re.sub(special_character, \"\", text)"
   ]
  },
  {
   "cell_type": "code",
   "execution_count": 8,
   "metadata": {},
   "outputs": [],
   "source": [
    "IEPO_extracted_data = IEPO_extracted_data.astype(str)\n",
    "\n",
    "IEPO_GROUND_data = IEPO_GROUND_data.astype(str)\n",
    "\n",
    "\n",
    "\n",
    "\n",
    "for col in [\"po_number_original\", \"po_number_corrected\"]:\n",
    "    IEPO_extracted_data[col] = IEPO_extracted_data[col].apply(remove_special_characters)\n",
    "    \n",
    "    \n",
    "    \n",
    "IEPO_GROUND_data[\"gt_po_number\"] = IEPO_GROUND_data[\"gt_po_number\"].apply(remove_special_characters)\n",
    "\n",
    "\n",
    "\n",
    "for col in [\"po_number_original\", \"po_number_corrected\"]:\n",
    "    IEPO_extracted_data[col] = IEPO_extracted_data[col].apply(remove_special_characters)\n",
    "    \n",
    "    \n",
    "IEPO_GROUND_data[\"gt_po_number\"] = IEPO_GROUND_data[\"gt_po_number\"].apply(remove_special_characters)"
   ]
  },
  {
   "cell_type": "code",
   "execution_count": 9,
   "metadata": {},
   "outputs": [],
   "source": [
    "Filtered_po_number=check_po_number(IEPO_GROUND_data,IEPO_extracted_data,\"po_number\" )"
   ]
  },
  {
   "cell_type": "code",
   "execution_count": 10,
   "metadata": {},
   "outputs": [],
   "source": [
    "Filtered_doc_type=check_doctype(IEPO_GROUND_data,Filtered_po_number,\"doc_type\" )"
   ]
  },
  {
   "cell_type": "code",
   "execution_count": 11,
   "metadata": {},
   "outputs": [
    {
     "data": {
      "text/plain": [
       "array(['Perfect Extraction', 'Business change+Extraction Error',\n",
       "       'Perfect Extraction,Business Change'], dtype=object)"
      ]
     },
     "execution_count": 11,
     "metadata": {},
     "output_type": "execute_result"
    }
   ],
   "source": [
    "Filtered_doc_type[\"DOCType_Check\"].unique()"
   ]
  },
  {
   "cell_type": "code",
   "execution_count": 14,
   "metadata": {},
   "outputs": [
    {
     "data": {
      "text/plain": [
       "77.60416666666666"
      ]
     },
     "execution_count": 14,
     "metadata": {},
     "output_type": "execute_result"
    }
   ],
   "source": [
    "(Filtered_doc_type[\"DOCType_Check\"] == 'Perfect Extraction').mean() * 100"
   ]
  },
  {
   "cell_type": "code",
   "execution_count": 13,
   "metadata": {},
   "outputs": [],
   "source": [
    "Filtered_doc_type.to_csv(\"po_doc.csv\",index=False)"
   ]
  }
 ],
 "metadata": {
  "kernelspec": {
   "display_name": "myenv",
   "language": "python",
   "name": "python3"
  },
  "language_info": {
   "codemirror_mode": {
    "name": "ipython",
    "version": 3
   },
   "file_extension": ".py",
   "mimetype": "text/x-python",
   "name": "python",
   "nbconvert_exporter": "python",
   "pygments_lexer": "ipython3",
   "version": "3.12.6"
  }
 },
 "nbformat": 4,
 "nbformat_minor": 2
}
