{
 "cells": [
  {
   "cell_type": "code",
   "execution_count": 1,
   "metadata": {},
   "outputs": [],
   "source": [
    "import pandas as pd \n",
    "import numpy as np\n",
    "from  matched import matched_business_change, matched_extraction,determine_filed_check"
   ]
  },
  {
   "cell_type": "markdown",
   "metadata": {},
   "source": [
    "Load Data"
   ]
  },
  {
   "cell_type": "code",
   "execution_count": 2,
   "metadata": {},
   "outputs": [],
   "source": [
    "IEPO_GROUND_data=pd.read_excel(\"IEPO_210_Documents.xlsx\",sheet_name=\"IEPO_Cleaned\")\n",
    "IEPO_extracted_data=pd.read_csv(\"KA_Dump.csv\")"
   ]
  },
  {
   "cell_type": "code",
   "execution_count": 3,
   "metadata": {},
   "outputs": [],
   "source": [
    "doc_ids=IEPO_GROUND_data[\"document_id\"].unique()\n",
    "\n",
    "IEPO_extracted_data = IEPO_extracted_data[\n",
    "    IEPO_extracted_data[\"document_id\"].isin(doc_ids)\n",
    "]\n"
   ]
  },
  {
   "cell_type": "code",
   "execution_count": 4,
   "metadata": {},
   "outputs": [],
   "source": [
    "IEPO_extracted_data.loc[:, 'running_index'] =IEPO_extracted_data.groupby('document_id').cumcount() + 1\n",
    "IEPO_extracted_data = IEPO_extracted_data.reset_index(drop=True)\n",
    "\n",
    "#adjust the name of columns\n",
    "IEPO_GROUND_data = IEPO_GROUND_data.rename(columns={\"gt_qty\": \"gt_quantity\"})\n",
    "#IEPO_GROUND_data =IEPO_GROUND_data.drop_duplicates()"
   ]
  },
  {
   "cell_type": "code",
   "execution_count": 5,
   "metadata": {},
   "outputs": [],
   "source": [
    "IEPO_GROUND_data =IEPO_GROUND_data.drop_duplicates()"
   ]
  },
  {
   "cell_type": "code",
   "execution_count": 7,
   "metadata": {},
   "outputs": [],
   "source": [
    "\n",
    "#gather data with changes \n",
    "QTY_extraction=matched_extraction(IEPO_GROUND_data, IEPO_extracted_data, \"quantity\")\n",
    "QTY_business_change=matched_business_change(IEPO_GROUND_data, QTY_extraction, \"quantity\")\n",
    "unit_extraction=matched_extraction(IEPO_GROUND_data, QTY_extraction, \"unit\")\n",
    "unit_business_change=matched_business_change(IEPO_GROUND_data, unit_extraction, \"unit\")"
   ]
  },
  {
   "cell_type": "code",
   "execution_count": 8,
   "metadata": {},
   "outputs": [],
   "source": [
    "Final_data=unit_business_change"
   ]
  },
  {
   "cell_type": "code",
   "execution_count": 13,
   "metadata": {},
   "outputs": [],
   "source": [
    "\n",
    "Final_data[\"quantity_check\"] = Final_data.apply(lambda row: determine_filed_check(row, field=\"quantity\"), axis=1)\n",
    "\n",
    "Final_data[\"unit_check\"] = Final_data.apply(lambda row: determine_filed_check(row, field=\"unit\"), axis=1)"
   ]
  },
  {
   "cell_type": "code",
   "execution_count": 18,
   "metadata": {},
   "outputs": [],
   "source": [
    "Final_data[\"Delete__qty_status\"] = \"Alternatives\"\n",
    "\n",
    "# Apply conditions\n",
    "Final_data.loc[\n",
    "    (Final_data[\"match_corrected_quantity\"] == \"position_mismatch,no change\") & \n",
    "    (Final_data[\"quantity_status\"] == \"DELETED\"),\n",
    "    \"Delete__qty_status\"\n",
    "] = \"Position Misalignment\"\n",
    "\n",
    "Final_data.loc[\n",
    "    ((Final_data[\"quantity_original\"].isna())  & (Final_data[\"quantity_corrected\"].isna())) & \n",
    "    (Final_data[\"quantity_status\"] == \"DELETED\"),\n",
    "    \"Delete__qty_status\"\n",
    "] = \"Null Value Issue\"        "
   ]
  },
  {
   "cell_type": "code",
   "execution_count": 20,
   "metadata": {},
   "outputs": [],
   "source": [
    "Final_data[\"Delete__unit_status\"] = \"Alternatives\"\n",
    "\n",
    "# Apply conditions\n",
    "Final_data.loc[\n",
    "    (Final_data[\"match_corrected_quantity\"] == \"position_mismatch,no change\") & \n",
    "    (Final_data[\"quantity_status\"] == \"DELETED\"),\n",
    "    \"Delete__unit_status\"\n",
    "] = \"Position Misalignment\"\n",
    "\n",
    "Final_data.loc[\n",
    "    ((Final_data[\"quantity_original\"].isna())  & (Final_data[\"quantity_corrected\"].isna())) & \n",
    "    (Final_data[\"quantity_status\"] == \"DELETED\"),\n",
    "    \"Delete__unit_status\"\n",
    "] = \"Null Value Issue\" "
   ]
  }
 ],
 "metadata": {
  "kernelspec": {
   "display_name": "myenv",
   "language": "python",
   "name": "python3"
  },
  "language_info": {
   "codemirror_mode": {
    "name": "ipython",
    "version": 3
   },
   "file_extension": ".py",
   "mimetype": "text/x-python",
   "name": "python",
   "nbconvert_exporter": "python",
   "pygments_lexer": "ipython3",
   "version": "3.12.6"
  }
 },
 "nbformat": 4,
 "nbformat_minor": 2
}
